{
 "cells": [
  {
   "cell_type": "markdown",
   "metadata": {},
   "source": [
    "# Importing necessary modules\n",
    "\n"
   ]
  },
  {
   "cell_type": "code",
   "execution_count": 27,
   "metadata": {},
   "outputs": [],
   "source": [
    "import pandas as pd\n",
    "import numpy as np\n",
    "import matplotlib.pyplot as plt \n",
    "import xgboost as xgb\n",
    "from sklearn.metrics import mean_squared_error\n",
    "from sklearn.model_selection import TimeSeriesSplit"
   ]
  },
  {
   "cell_type": "markdown",
   "metadata": {},
   "source": [
    "# Loading Data \n",
    "\n",
    "Data from Kaggle and is from the PJM East Region: 2001-2018 (PJME)\n"
   ]
  },
  {
   "cell_type": "code",
   "execution_count": 28,
   "metadata": {},
   "outputs": [
    {
     "data": {
      "text/plain": [
       "<AxesSubplot:title={'center':'PJME hourly consumption'}, xlabel='Datetime'>"
      ]
     },
     "execution_count": 28,
     "metadata": {},
     "output_type": "execute_result"
    },
    {
     "data": {
      "image/png": "[encoded data removed]",
      "text/plain": [
       "<Figure size 432x288 with 1 Axes>"
      ]
     },
     "metadata": {
      "needs_background": "light"
     },
     "output_type": "display_data"
    }
   ],
   "source": [
    "df = pd.read_csv(\"PJME_hourly.csv\")\n",
    "df = df.set_index(\"Datetime\")\n",
    "df.index = pd.to_datetime(df.index)\n",
    "df.plot(title = \"PJME hourly consumption\")"
   ]
  },
  {
   "cell_type": "markdown",
   "metadata": {},
   "source": [
    "# Removing outliers"
   ]
  },
  {
   "cell_type": "code",
   "execution_count": 6,
   "metadata": {},
   "outputs": [],
   "source": [
    "df = df.sort_values(by='PJME_MW', ascending=True)\n",
    "Q1 = np.quantile(df,0.25)\n",
    "Q3 = np.quantile(df,0.75)\n",
    "IQR = Q3 - Q1 \n",
    "lower_limit = Q1 - (1.5*IQR)\n",
    "upper_limit = Q3 + (1.5*IQR)\n",
    "\n",
    "cleaned_df = df[(df.PJME_MW >= lower_limit ) & (df.PJME_MW <= upper_limit)]\n",
    "cleaned_df = cleaned_df.sort_values(by = \"Datetime\")\n"
   ]
  },
  {
   "cell_type": "markdown",
   "metadata": {},
   "source": [
    "# Feature Creation"
   ]
  },
  {
   "cell_type": "code",
   "execution_count": 29,
   "metadata": {},
   "outputs": [],
   "source": [
    "def feature_creation(x):\n",
    "    x = x.copy()\n",
    "    x[\"Hour\"] = x.index.hour\n",
    "    x[\"Month\"] = x.index.month\n",
    "    x[\"Year\"] = x.index.year\n",
    "    return x\n",
    "\n",
    "cleaned_df = feature_creation(cleaned_df)\n"
   ]
  },
  {
   "cell_type": "markdown",
   "metadata": {},
   "source": [
    "# TimeSeriesSplit"
   ]
  },
  {
   "cell_type": "code",
   "execution_count": 34,
   "metadata": {},
   "outputs": [
    {
     "name": "stdout",
     "output_type": "stream",
     "text": [
      "[0]\tvalidation_0-rmse:32044.07992\tvalidation_1-rmse:31924.94191\n"
     ]
    },
    {
     "name": "stderr",
     "output_type": "stream",
     "text": [
      "/Users/shantanusharma/opt/anaconda3/lib/python3.9/site-packages/xgboost/core.py:160: UserWarning: [04:51:54] WARNING: /Users/runner/work/xgboost/xgboost/src/objective/regression_obj.cu:209: reg:linear is now deprecated in favor of reg:squarederror.\n",
      "  warnings.warn(smsg, UserWarning)\n"
     ]
    },
    {
     "name": "stdout",
     "output_type": "stream",
     "text": [
      "[100]\tvalidation_0-rmse:12292.56869\tvalidation_1-rmse:12238.59233\n",
      "[200]\tvalidation_0-rmse:5691.60720\tvalidation_1-rmse:5866.93739\n",
      "[300]\tvalidation_0-rmse:3910.79534\tvalidation_1-rmse:4376.87098\n",
      "[400]\tvalidation_0-rmse:3527.58699\tvalidation_1-rmse:4103.24846\n",
      "[500]\tvalidation_0-rmse:3421.65821\tvalidation_1-rmse:4040.64986\n",
      "[600]\tvalidation_0-rmse:3371.75732\tvalidation_1-rmse:4010.76956\n",
      "[700]\tvalidation_0-rmse:3342.83145\tvalidation_1-rmse:3998.01322\n",
      "[800]\tvalidation_0-rmse:3321.30378\tvalidation_1-rmse:3988.25232\n",
      "[900]\tvalidation_0-rmse:3303.20159\tvalidation_1-rmse:3970.08132\n",
      "[999]\tvalidation_0-rmse:3289.93455\tvalidation_1-rmse:3963.02291\n",
      "[0]\tvalidation_0-rmse:32033.57119\tvalidation_1-rmse:31783.98220\n"
     ]
    },
    {
     "name": "stderr",
     "output_type": "stream",
     "text": [
      "/Users/shantanusharma/opt/anaconda3/lib/python3.9/site-packages/xgboost/core.py:160: UserWarning: [04:52:03] WARNING: /Users/runner/work/xgboost/xgboost/src/objective/regression_obj.cu:209: reg:linear is now deprecated in favor of reg:squarederror.\n",
      "  warnings.warn(smsg, UserWarning)\n"
     ]
    },
    {
     "name": "stdout",
     "output_type": "stream",
     "text": [
      "[100]\tvalidation_0-rmse:12303.53754\tvalidation_1-rmse:12056.48460\n",
      "[200]\tvalidation_0-rmse:5722.91082\tvalidation_1-rmse:5662.36028\n",
      "[300]\tvalidation_0-rmse:3945.08667\tvalidation_1-rmse:4195.00768\n",
      "[400]\tvalidation_0-rmse:3569.04710\tvalidation_1-rmse:3896.32717\n",
      "[500]\tvalidation_0-rmse:3466.88180\tvalidation_1-rmse:3826.29022\n",
      "[600]\tvalidation_0-rmse:3423.60703\tvalidation_1-rmse:3796.98047\n",
      "[700]\tvalidation_0-rmse:3396.72914\tvalidation_1-rmse:3776.24818\n",
      "[800]\tvalidation_0-rmse:3375.41984\tvalidation_1-rmse:3754.80105\n",
      "[900]\tvalidation_0-rmse:3360.63212\tvalidation_1-rmse:3745.03255\n",
      "[999]\tvalidation_0-rmse:3347.30236\tvalidation_1-rmse:3732.74351\n",
      "[0]\tvalidation_0-rmse:32016.67827\tvalidation_1-rmse:30610.20419\n"
     ]
    },
    {
     "name": "stderr",
     "output_type": "stream",
     "text": [
      "/Users/shantanusharma/opt/anaconda3/lib/python3.9/site-packages/xgboost/core.py:160: UserWarning: [04:52:13] WARNING: /Users/runner/work/xgboost/xgboost/src/objective/regression_obj.cu:209: reg:linear is now deprecated in favor of reg:squarederror.\n",
      "  warnings.warn(smsg, UserWarning)\n"
     ]
    },
    {
     "name": "stdout",
     "output_type": "stream",
     "text": [
      "[100]\tvalidation_0-rmse:12309.86563\tvalidation_1-rmse:10942.25279\n",
      "[200]\tvalidation_0-rmse:5738.52478\tvalidation_1-rmse:4769.57120\n",
      "[300]\tvalidation_0-rmse:3972.42860\tvalidation_1-rmse:3752.76013\n",
      "[379]\tvalidation_0-rmse:3627.57165\tvalidation_1-rmse:3752.51320\n",
      "[0]\tvalidation_0-rmse:31920.25936\tvalidation_1-rmse:31053.78922\n"
     ]
    },
    {
     "name": "stderr",
     "output_type": "stream",
     "text": [
      "/Users/shantanusharma/opt/anaconda3/lib/python3.9/site-packages/xgboost/core.py:160: UserWarning: [04:52:16] WARNING: /Users/runner/work/xgboost/xgboost/src/objective/regression_obj.cu:209: reg:linear is now deprecated in favor of reg:squarederror.\n",
      "  warnings.warn(smsg, UserWarning)\n"
     ]
    },
    {
     "name": "stdout",
     "output_type": "stream",
     "text": [
      "[100]\tvalidation_0-rmse:12282.22455\tvalidation_1-rmse:11532.82273\n",
      "[200]\tvalidation_0-rmse:5742.80586\tvalidation_1-rmse:5360.77040\n",
      "[300]\tvalidation_0-rmse:3990.17144\tvalidation_1-rmse:4092.79854\n",
      "[400]\tvalidation_0-rmse:3612.73150\tvalidation_1-rmse:3889.64953\n",
      "[500]\tvalidation_0-rmse:3513.22623\tvalidation_1-rmse:3836.33163\n",
      "[600]\tvalidation_0-rmse:3463.78912\tvalidation_1-rmse:3799.26193\n",
      "[700]\tvalidation_0-rmse:3432.76878\tvalidation_1-rmse:3786.12411\n",
      "[800]\tvalidation_0-rmse:3409.72379\tvalidation_1-rmse:3778.61856\n",
      "[815]\tvalidation_0-rmse:3407.22294\tvalidation_1-rmse:3779.52682\n",
      "[0]\tvalidation_0-rmse:31865.39478\tvalidation_1-rmse:31213.08990\n"
     ]
    },
    {
     "name": "stderr",
     "output_type": "stream",
     "text": [
      "/Users/shantanusharma/opt/anaconda3/lib/python3.9/site-packages/xgboost/core.py:160: UserWarning: [04:52:29] WARNING: /Users/runner/work/xgboost/xgboost/src/objective/regression_obj.cu:209: reg:linear is now deprecated in favor of reg:squarederror.\n",
      "  warnings.warn(smsg, UserWarning)\n"
     ]
    },
    {
     "name": "stdout",
     "output_type": "stream",
     "text": [
      "[100]\tvalidation_0-rmse:12269.20116\tvalidation_1-rmse:11689.07982\n",
      "[200]\tvalidation_0-rmse:5750.48988\tvalidation_1-rmse:5493.21979\n",
      "[300]\tvalidation_0-rmse:4003.06735\tvalidation_1-rmse:4171.32521\n",
      "[400]\tvalidation_0-rmse:3627.44905\tvalidation_1-rmse:3965.23346\n",
      "[500]\tvalidation_0-rmse:3519.88580\tvalidation_1-rmse:3931.67572\n",
      "[579]\tvalidation_0-rmse:3481.83510\tvalidation_1-rmse:3933.46966\n"
     ]
    }
   ],
   "source": [
    "tss = TimeSeriesSplit(n_splits= 5, test_size= 8760, gap = 24)\n",
    "cleaned_df = cleaned_df.sort_index()\n",
    "\n",
    "fold = 0\n",
    "predictions = []\n",
    "scores = []\n",
    "\n",
    "for train_index , val_index in tss.split(cleaned_df):\n",
    "    train = cleaned_df.iloc[train_index]\n",
    "    test = cleaned_df.iloc[val_index]\n",
    "\n",
    "    train = feature_creation(train)\n",
    "    test = feature_creation(test)\n",
    "\n",
    "    features = [\"Hour\", \"Month\", \"Year\"]\n",
    "    target = \"PJME_MW\"\n",
    "    X_train = train[features]\n",
    "    Y_train = train[target]\n",
    "    X_test = test[features]\n",
    "    Y_test = test[target]\n",
    "\n",
    "    xgb_regressor = xgb.XGBRegressor(base_score=0.5, booster='gbtree' ,n_estimators=1000, early_stopping_rounds=50, objective='reg:linear', max_depth=3, learning_rate=0.01)\n",
    "    xgb_regressor.fit(X_train, Y_train, eval_set=[(X_train, Y_train), (X_test, Y_test)], verbose=100)\n",
    "\n",
    "    y_predictions = xgb_regressor.predict(X_test)\n",
    "    predictions.append(y_predictions)\n",
    "    score = np.sqrt(mean_squared_error(Y_test, y_predictions))\n",
    "    scores.append(score)"
   ]
  },
  {
   "cell_type": "code",
   "execution_count": 40,
   "metadata": {},
   "outputs": [
    {
     "data": {
      "text/plain": [
       "3824.5782506591304"
      ]
     },
     "execution_count": 40,
     "metadata": {},
     "output_type": "execute_result"
    }
   ],
   "source": [
    "#Mean RMSE\n",
    "np.mean(scores)"
   ]
  }
 ],
 "metadata": {
  "kernelspec": {
   "display_name": "base",
   "language": "python",
   "name": "python3"
  },
  "language_info": {
   "codemirror_mode": {
    "name": "ipython",
    "version": 3
   },
   "file_extension": ".py",
   "mimetype": "text/x-python",
   "name": "python",
   "nbconvert_exporter": "python",
   "pygments_lexer": "ipython3",
   "version": "3.9.12"
  }
 },
 "nbformat": 4,
 "nbformat_minor": 2
}
